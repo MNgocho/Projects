{
 "cells": [
  {
   "cell_type": "code",
   "execution_count": 1,
   "metadata": {},
   "outputs": [
    {
     "name": "stderr",
     "output_type": "stream",
     "text": [
      "C:\\Users\\janet.ngocho\\Desktop\\Data cleaning-Definitive HC Hospital report\\fuzzywuzzy\\fuzz.py:11: UserWarning: Using slow pure-python SequenceMatcher. Install python-Levenshtein to remove this warning\n",
      "  warnings.warn('Using slow pure-python SequenceMatcher. Install python-Levenshtein to remove this warning')\n"
     ]
    }
   ],
   "source": [
    "import pandas as pd\n",
    "import numpy as np\n",
    "import matplotlib. pyplot as plt\n",
    "import re \n",
    "import operator\n",
    "from nltk import word_tokenize, sent_tokenize, pos_tag, pos_tag_sents\n",
    "import fuzzywuzzy\n",
    "from fuzzywuzzy import process\n",
    "import chardet\n"
   ]
  },
  {
   "cell_type": "code",
   "execution_count": 2,
   "metadata": {},
   "outputs": [
    {
     "name": "stdout",
     "output_type": "stream",
     "text": [
      "Hospital Name                    object\n",
      "Firm Type                        object\n",
      "Hospital Type                    object\n",
      "Address                          object\n",
      "Address1                         object\n",
      "City                             object\n",
      "State                            object\n",
      "Zip Code                          int64\n",
      "Definitive ID                     int64\n",
      "Managed/Leased/Owned             object\n",
      "Provider Number                  object\n",
      "NPI Number                      float64\n",
      "GLN Number (Access Required)     object\n",
      "Definitive IDN ID               float64\n",
      "IDN                              object\n",
      "IDN Parent                       object\n",
      "Primary GPO ID                  float64\n",
      "Primary GPO Name                 object\n",
      "GPO Affiliations                 object\n",
      "Net Operating Profit Margin      object\n",
      "EBITDA                           object\n",
      "Net Patient Revenue              object\n",
      "Net Medicare Revenue             object\n",
      "Net Medicaid Revenue             object\n",
      "Inpatient Revenue                object\n",
      "Outpatient Revenue               object\n",
      "# of Staffed Beds                object\n",
      "dtype: object\n"
     ]
    }
   ],
   "source": [
    "#get column data types\n",
    "df = pd.read_csv('Definitve HC Hospital Report.csv')\n",
    "print(df.dtypes)"
   ]
  },
  {
   "cell_type": "code",
   "execution_count": 3,
   "metadata": {},
   "outputs": [
    {
     "data": {
      "text/html": [
       "<div>\n",
       "<style scoped>\n",
       "    .dataframe tbody tr th:only-of-type {\n",
       "        vertical-align: middle;\n",
       "    }\n",
       "\n",
       "    .dataframe tbody tr th {\n",
       "        vertical-align: top;\n",
       "    }\n",
       "\n",
       "    .dataframe thead th {\n",
       "        text-align: right;\n",
       "    }\n",
       "</style>\n",
       "<table border=\"1\" class=\"dataframe\">\n",
       "  <thead>\n",
       "    <tr style=\"text-align: right;\">\n",
       "      <th></th>\n",
       "      <th>Hospital Name</th>\n",
       "      <th>Firm Type</th>\n",
       "      <th>Hospital Type</th>\n",
       "      <th>Address</th>\n",
       "      <th>Address1</th>\n",
       "      <th>City</th>\n",
       "      <th>State</th>\n",
       "      <th>Zip Code</th>\n",
       "      <th>Definitive ID</th>\n",
       "      <th>Managed/Leased/Owned</th>\n",
       "      <th>...</th>\n",
       "      <th>Primary GPO Name</th>\n",
       "      <th>GPO Affiliations</th>\n",
       "      <th>Net Operating Profit Margin</th>\n",
       "      <th>EBITDA</th>\n",
       "      <th>Net Patient Revenue</th>\n",
       "      <th>Net Medicare Revenue</th>\n",
       "      <th>Net Medicaid Revenue</th>\n",
       "      <th>Inpatient Revenue</th>\n",
       "      <th>Outpatient Revenue</th>\n",
       "      <th># of Staffed Beds</th>\n",
       "    </tr>\n",
       "  </thead>\n",
       "  <tbody>\n",
       "    <tr>\n",
       "      <th>0</th>\n",
       "      <td>366th Medical Group - Mountain Home Air Force ...</td>\n",
       "      <td>Hospital</td>\n",
       "      <td>Department of Defense Hospital</td>\n",
       "      <td>90 Hope Dr</td>\n",
       "      <td>Bldg 6000 Mtain Home Air Force Base</td>\n",
       "      <td>Mountain Home Afb</td>\n",
       "      <td>ID</td>\n",
       "      <td>83648</td>\n",
       "      <td>581780</td>\n",
       "      <td>Owned</td>\n",
       "      <td>...</td>\n",
       "      <td>NaN</td>\n",
       "      <td>NaN</td>\n",
       "      <td>NaN</td>\n",
       "      <td>NaN</td>\n",
       "      <td>NaN</td>\n",
       "      <td>NaN</td>\n",
       "      <td>NaN</td>\n",
       "      <td>NaN</td>\n",
       "      <td>NaN</td>\n",
       "      <td>NaN</td>\n",
       "    </tr>\n",
       "    <tr>\n",
       "      <th>1</th>\n",
       "      <td>60th Medical Group - David Grant USAF Medical ...</td>\n",
       "      <td>Hospital</td>\n",
       "      <td>Department of Defense Hospital</td>\n",
       "      <td>101 Bodin Cir</td>\n",
       "      <td>NaN</td>\n",
       "      <td>Travis Afb</td>\n",
       "      <td>CA</td>\n",
       "      <td>94535</td>\n",
       "      <td>551551</td>\n",
       "      <td>Owned</td>\n",
       "      <td>...</td>\n",
       "      <td>US Department of Defense</td>\n",
       "      <td>US Department of Defense</td>\n",
       "      <td>NaN</td>\n",
       "      <td>NaN</td>\n",
       "      <td>NaN</td>\n",
       "      <td>NaN</td>\n",
       "      <td>NaN</td>\n",
       "      <td>NaN</td>\n",
       "      <td>NaN</td>\n",
       "      <td>298</td>\n",
       "    </tr>\n",
       "    <tr>\n",
       "      <th>2</th>\n",
       "      <td>633d Medical Group - USAF Hospital Langley</td>\n",
       "      <td>Hospital</td>\n",
       "      <td>Department of Defense Hospital</td>\n",
       "      <td>77 Nealy Ave</td>\n",
       "      <td>NaN</td>\n",
       "      <td>Hampton</td>\n",
       "      <td>VA</td>\n",
       "      <td>23665</td>\n",
       "      <td>575034</td>\n",
       "      <td>Owned</td>\n",
       "      <td>...</td>\n",
       "      <td>US Department of Defense</td>\n",
       "      <td>US Department of Defense</td>\n",
       "      <td>NaN</td>\n",
       "      <td>NaN</td>\n",
       "      <td>NaN</td>\n",
       "      <td>NaN</td>\n",
       "      <td>NaN</td>\n",
       "      <td>NaN</td>\n",
       "      <td>NaN</td>\n",
       "      <td>60</td>\n",
       "    </tr>\n",
       "    <tr>\n",
       "      <th>3</th>\n",
       "      <td>673d Medical Group - Joint Base Elmendorf-Rich...</td>\n",
       "      <td>Hospital</td>\n",
       "      <td>Department of Defense Hospital</td>\n",
       "      <td>5955 Zeamer Ave</td>\n",
       "      <td>NaN</td>\n",
       "      <td>Elmendorf Afb</td>\n",
       "      <td>AK</td>\n",
       "      <td>99506</td>\n",
       "      <td>551553</td>\n",
       "      <td>Owned</td>\n",
       "      <td>...</td>\n",
       "      <td>US Department of Defense</td>\n",
       "      <td>US Department of Defense</td>\n",
       "      <td>NaN</td>\n",
       "      <td>NaN</td>\n",
       "      <td>NaN</td>\n",
       "      <td>NaN</td>\n",
       "      <td>NaN</td>\n",
       "      <td>NaN</td>\n",
       "      <td>NaN</td>\n",
       "      <td>55</td>\n",
       "    </tr>\n",
       "    <tr>\n",
       "      <th>4</th>\n",
       "      <td>6th Medical Group - MacDill Air Force Base (Cl...</td>\n",
       "      <td>Hospital</td>\n",
       "      <td>Department of Defense Hospital</td>\n",
       "      <td>3250 Zemke Ave</td>\n",
       "      <td>NaN</td>\n",
       "      <td>Tampa</td>\n",
       "      <td>FL</td>\n",
       "      <td>33621</td>\n",
       "      <td>551568</td>\n",
       "      <td>Owned</td>\n",
       "      <td>...</td>\n",
       "      <td>NaN</td>\n",
       "      <td>NaN</td>\n",
       "      <td>NaN</td>\n",
       "      <td>NaN</td>\n",
       "      <td>NaN</td>\n",
       "      <td>NaN</td>\n",
       "      <td>NaN</td>\n",
       "      <td>NaN</td>\n",
       "      <td>NaN</td>\n",
       "      <td>NaN</td>\n",
       "    </tr>\n",
       "  </tbody>\n",
       "</table>\n",
       "<p>5 rows × 27 columns</p>\n",
       "</div>"
      ],
      "text/plain": [
       "                                       Hospital Name Firm Type  \\\n",
       "0  366th Medical Group - Mountain Home Air Force ...  Hospital   \n",
       "1  60th Medical Group - David Grant USAF Medical ...  Hospital   \n",
       "2         633d Medical Group - USAF Hospital Langley  Hospital   \n",
       "3  673d Medical Group - Joint Base Elmendorf-Rich...  Hospital   \n",
       "4  6th Medical Group - MacDill Air Force Base (Cl...  Hospital   \n",
       "\n",
       "                    Hospital Type          Address  \\\n",
       "0  Department of Defense Hospital       90 Hope Dr   \n",
       "1  Department of Defense Hospital    101 Bodin Cir   \n",
       "2  Department of Defense Hospital     77 Nealy Ave   \n",
       "3  Department of Defense Hospital  5955 Zeamer Ave   \n",
       "4  Department of Defense Hospital   3250 Zemke Ave   \n",
       "\n",
       "                              Address1               City State  Zip Code  \\\n",
       "0  Bldg 6000 Mtain Home Air Force Base  Mountain Home Afb    ID     83648   \n",
       "1                                  NaN         Travis Afb    CA     94535   \n",
       "2                                  NaN            Hampton    VA     23665   \n",
       "3                                  NaN      Elmendorf Afb    AK     99506   \n",
       "4                                  NaN              Tampa    FL     33621   \n",
       "\n",
       "   Definitive ID Managed/Leased/Owned  ...          Primary GPO Name  \\\n",
       "0         581780                Owned  ...                       NaN   \n",
       "1         551551                Owned  ...  US Department of Defense   \n",
       "2         575034                Owned  ...  US Department of Defense   \n",
       "3         551553                Owned  ...  US Department of Defense   \n",
       "4         551568                Owned  ...                       NaN   \n",
       "\n",
       "           GPO Affiliations Net Operating Profit Margin  EBITDA  \\\n",
       "0                       NaN                         NaN     NaN   \n",
       "1  US Department of Defense                         NaN     NaN   \n",
       "2  US Department of Defense                         NaN     NaN   \n",
       "3  US Department of Defense                         NaN     NaN   \n",
       "4                       NaN                         NaN     NaN   \n",
       "\n",
       "  Net Patient Revenue Net Medicare Revenue  Net Medicaid Revenue  \\\n",
       "0                 NaN                  NaN                   NaN   \n",
       "1                 NaN                  NaN                   NaN   \n",
       "2                 NaN                  NaN                   NaN   \n",
       "3                 NaN                  NaN                   NaN   \n",
       "4                 NaN                  NaN                   NaN   \n",
       "\n",
       "  Inpatient Revenue Outpatient Revenue # of Staffed Beds  \n",
       "0               NaN                NaN               NaN  \n",
       "1               NaN                NaN               298  \n",
       "2               NaN                NaN                60  \n",
       "3               NaN                NaN                55  \n",
       "4               NaN                NaN               NaN  \n",
       "\n",
       "[5 rows x 27 columns]"
      ]
     },
     "execution_count": 3,
     "metadata": {},
     "output_type": "execute_result"
    }
   ],
   "source": [
    "#peak into data\n",
    "df.head()"
   ]
  },
  {
   "cell_type": "code",
   "execution_count": 4,
   "metadata": {},
   "outputs": [
    {
     "name": "stdout",
     "output_type": "stream",
     "text": [
      "{'encoding': 'UTF-8-SIG', 'confidence': 1.0, 'language': ''}\n"
     ]
    }
   ],
   "source": [
    "with open('Definitve HC Hospital Report.csv', 'rb') as rawdata:\n",
    "    result = chardet.detect(rawdata.read(100000))\n",
    "\n",
    "# check what the character encoding might be\n",
    "print(result)"
   ]
  },
  {
   "cell_type": "code",
   "execution_count": 5,
   "metadata": {},
   "outputs": [
    {
     "name": "stdout",
     "output_type": "stream",
     "text": [
      "Index(['Hospital Name', 'Firm Type', 'Hospital Type', 'Address', 'Address1',\n",
      "       'City', 'State', 'Zip Code', 'Definitive ID', 'Managed/Leased/Owned',\n",
      "       'Provider Number', 'NPI Number', 'GLN Number (Access Required)',\n",
      "       'Definitive IDN ID', 'IDN', 'IDN Parent', 'Primary GPO ID',\n",
      "       'Primary GPO Name', 'GPO Affiliations', 'Net Operating Profit Margin',\n",
      "       'EBITDA', 'Net Patient Revenue', 'Net Medicare Revenue',\n",
      "       'Net Medicaid Revenue', 'Inpatient Revenue', 'Outpatient Revenue',\n",
      "       '# of Staffed Beds'],\n",
      "      dtype='object')\n"
     ]
    }
   ],
   "source": [
    "#getting an overview of the data parameters\n",
    "\n",
    "df = pd.read_csv('Definitve HC Hospital Report.csv') \n",
    "column_names = df.columns \n",
    "print(column_names )\n"
   ]
  },
  {
   "cell_type": "code",
   "execution_count": 6,
   "metadata": {
    "scrolled": false
   },
   "outputs": [
    {
     "data": {
      "text/plain": [
       "array(['366th Medical Group - Mountain Home Air Force Base (Closed - No Longer Offers Inpatient Services)',\n",
       "       '60th Medical Group - David Grant USAF Medical Center',\n",
       "       '633d Medical Group - USAF Hospital Langley', ...,\n",
       "       'Zuckerberg San Francisco General Hospital (FKA San Francisco General Hospital)',\n",
       "       'Zuni Comprehensive Health Center',\n",
       "       'iCare Rehabilitation Hospital & Physical Medicine Center (FKA Continuum Rehabilitation Hospital of North Texas)'],\n",
       "      dtype=object)"
      ]
     },
     "execution_count": 6,
     "metadata": {},
     "output_type": "execute_result"
    }
   ],
   "source": [
    "# get all the unique values in the 'Hospital Name' column\n",
    "hospital_names = df['Hospital Name'].unique()\n",
    "\n",
    "# sort them alphabetically and then take a closer look\n",
    "hospital_names.sort()\n",
    "hospital_names"
   ]
  },
  {
   "cell_type": "code",
   "execution_count": 7,
   "metadata": {},
   "outputs": [],
   "source": [
    "#converting to lowercase\n",
    "df['Hospital Name'] = df['Hospital Name'].str.lower()\n",
    "#removing trailing white spaces\n",
    "df['Hospital Name'] = df['Hospital Name'].str.strip()\n"
   ]
  },
  {
   "cell_type": "code",
   "execution_count": 8,
   "metadata": {},
   "outputs": [
    {
     "data": {
      "text/plain": [
       "[('Zuni Comprehensive Health Center', 100),\n",
       " ('Chester Mental Health Center', 70),\n",
       " ('Chinle Comprehensive Health Care Facility', 68),\n",
       " ('Community Mental Health Center', 68),\n",
       " ('Forest Health Medical Center', 67),\n",
       " ('Commonwealth Health Center', 66),\n",
       " ('Corrigan Mental Health Center', 66),\n",
       " ('Henry County Health Center', 66),\n",
       " ('Lucas County Health Center', 66),\n",
       " ('Choate Mental Health Center', 64)]"
      ]
     },
     "execution_count": 8,
     "metadata": {},
     "output_type": "execute_result"
    }
   ],
   "source": [
    "#example of how fuzzywuzzy works\n",
    "matches = fuzzywuzzy.process.extract('Zuni Comprehensive Health Center', hospital_names, limit=10, scorer = fuzzywuzzy.fuzz.token_sort_ratio)\n",
    "\n",
    "\n",
    "# take a look at them\n",
    "matches"
   ]
  },
  {
   "cell_type": "code",
   "execution_count": 9,
   "metadata": {},
   "outputs": [
    {
     "data": {
      "text/plain": [
       "[('Zuni Comprehensive Health Center', 100),\n",
       " ('Chester Mental Health Center', 70),\n",
       " ('Chinle Comprehensive Health Care Facility', 68),\n",
       " ('Community Mental Health Center', 68),\n",
       " ('Forest Health Medical Center', 67),\n",
       " ('Commonwealth Health Center', 66),\n",
       " ('Corrigan Mental Health Center', 66),\n",
       " ('Henry County Health Center', 66),\n",
       " ('Lucas County Health Center', 66),\n",
       " ('Choate Mental Health Center', 64)]"
      ]
     },
     "execution_count": 9,
     "metadata": {},
     "output_type": "execute_result"
    }
   ],
   "source": [
    "#example of how fuzzywuzzy works\n",
    "matches = fuzzywuzzy.process.extract('Zuni Comprehensive Health Center', hospital_names, limit=10, scorer = fuzzywuzzy.fuzz.token_sort_ratio)\n",
    "\n",
    "\n",
    "# take a look at them\n",
    "matches"
   ]
  },
  {
   "cell_type": "code",
   "execution_count": 10,
   "metadata": {},
   "outputs": [
    {
     "data": {
      "text/plain": [
       "[('Arkansas Childrens Hospital', 100),\n",
       " ('Arkansas Childrens Hospital System', 89),\n",
       " ('Akron Childrens Hospital', 86),\n",
       " ('Avera Childrens Hospital', 86),\n",
       " ('Bronson Childrens Hospital', 83),\n",
       " ('Blank Childrens Hospital', 82),\n",
       " ('Beacon Childrens Hospital', 81),\n",
       " ('Carilion Childrens Hospital', 81),\n",
       " ('Arkansas Childrens Northwest', 80),\n",
       " ('Arkansas Heart Hospital', 80)]"
      ]
     },
     "execution_count": 10,
     "metadata": {},
     "output_type": "execute_result"
    }
   ],
   "source": [
    "#example of how fuzzywuzzy works\n",
    "matches = fuzzywuzzy.process.extract('Arkansas Childrens Hospital', hospital_names, limit=10, scorer = fuzzywuzzy.fuzz.token_sort_ratio)\n",
    "\n",
    "\n",
    "# take a look at them\n",
    "matches"
   ]
  },
  {
   "cell_type": "code",
   "execution_count": 11,
   "metadata": {},
   "outputs": [],
   "source": [
    "#function to replace rows in the provided colums of the provided data frame\n",
    "#that match the provided string above the provided ratio with the provided string\n",
    "def replace_matches_in_column(df, column, string_to_match, min_ratio = 88):\n",
    "    #get a list of unique values\n",
    "    strings = df[column].unique()\n",
    "    #get the top 10 closest matches to our input string\n",
    "    matches = fuzzywuzzy.process.extract(string_to_match, strings, limit =10, scorer = fuzzywuzzy.fuzz.token_sort_ratio)\n",
    "    #only matches >90\n",
    "    close_matches = [matches[0] for matches in matches if matches[1] >=min_ratio]\n",
    "    "
   ]
  }
 ],
 "metadata": {
  "kernelspec": {
   "display_name": "Python 3",
   "language": "python",
   "name": "python3"
  },
  "language_info": {
   "codemirror_mode": {
    "name": "ipython",
    "version": 3
   },
   "file_extension": ".py",
   "mimetype": "text/x-python",
   "name": "python",
   "nbconvert_exporter": "python",
   "pygments_lexer": "ipython3",
   "version": "3.7.3"
  }
 },
 "nbformat": 4,
 "nbformat_minor": 2
}
