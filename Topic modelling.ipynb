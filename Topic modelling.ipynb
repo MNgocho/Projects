{
 "cells": [
  {
   "cell_type": "code",
   "execution_count": 1,
   "metadata": {},
   "outputs": [
    {
     "name": "stderr",
     "output_type": "stream",
     "text": [
      "/anaconda3/lib/python3.6/site-packages/nltk/twitter/__init__.py:20: UserWarning: The twython library has not been installed. Some functionality from the twitter package will not be available.\n",
      "  warnings.warn(\"The twython library has not been installed. \"\n"
     ]
    }
   ],
   "source": [
    "import pandas as pd\n",
    "import numpy as np\n",
    "import matplotlib.pyplot as plt\n",
    "#import operator\n",
    "import re\n",
    "#from sklearn.feature_extraction.text import TfidfVectorizer\n",
    "import nltk\n",
    "#nltk.download('stopwords')\n",
    "#nltk.download('wordnet')\n",
    "from nltk import word_tokenize, sent_tokenize, pos_tag, pos_tag_sents\n",
    "import gensim\n",
    "import gensim.corpora as corpora\n",
    "import gensim.models.ldamodel as ldamodel\n",
    "from gensim.summarization import summarize\n",
    "import pyLDAvis.gensim\n",
    "import seaborn as sns\n",
    "from wordcloud import WordCloud\n",
    "from nltk.sentiment.vader import SentimentIntensityAnalyzer\n",
    "from nltk.probability import FreqDist\n",
    "from IPython.utils.text import columnize\n",
    "import warnings\n",
    "warnings.filterwarnings(\"ignore\")\n",
    "import textwrap\n",
    "%matplotlib notebook\n",
    "plt.style.use('seaborn-darkgrid')\n",
    "\n"
   ]
  },
  {
   "cell_type": "code",
   "execution_count": 2,
   "metadata": {},
   "outputs": [
    {
     "data": {
      "text/html": [
       "<div>\n",
       "<style scoped>\n",
       "    .dataframe tbody tr th:only-of-type {\n",
       "        vertical-align: middle;\n",
       "    }\n",
       "\n",
       "    .dataframe tbody tr th {\n",
       "        vertical-align: top;\n",
       "    }\n",
       "\n",
       "    .dataframe thead th {\n",
       "        text-align: right;\n",
       "    }\n",
       "</style>\n",
       "<table border=\"1\" class=\"dataframe\">\n",
       "  <thead>\n",
       "    <tr style=\"text-align: right;\">\n",
       "      <th></th>\n",
       "      <th>year</th>\n",
       "      <th>country</th>\n",
       "      <th>text</th>\n",
       "      <th>Region Name</th>\n",
       "      <th>Country or Area</th>\n",
       "    </tr>\n",
       "  </thead>\n",
       "  <tbody>\n",
       "    <tr>\n",
       "      <th>0</th>\n",
       "      <td>1989</td>\n",
       "      <td>MDV</td>\n",
       "      <td>﻿It is indeed a pleasure for me and the member...</td>\n",
       "      <td>Asia</td>\n",
       "      <td>Maldives</td>\n",
       "    </tr>\n",
       "    <tr>\n",
       "      <th>1</th>\n",
       "      <td>1989</td>\n",
       "      <td>FIN</td>\n",
       "      <td>﻿\\nMay I begin by congratulating you. Sir, on ...</td>\n",
       "      <td>Europe</td>\n",
       "      <td>Finland</td>\n",
       "    </tr>\n",
       "    <tr>\n",
       "      <th>2</th>\n",
       "      <td>1989</td>\n",
       "      <td>NER</td>\n",
       "      <td>﻿\\nMr. President, it is a particular pleasure ...</td>\n",
       "      <td>Africa</td>\n",
       "      <td>Niger</td>\n",
       "    </tr>\n",
       "    <tr>\n",
       "      <th>3</th>\n",
       "      <td>1989</td>\n",
       "      <td>URY</td>\n",
       "      <td>﻿\\nDuring the debate at the fortieth session o...</td>\n",
       "      <td>Americas</td>\n",
       "      <td>Uruguay</td>\n",
       "    </tr>\n",
       "    <tr>\n",
       "      <th>4</th>\n",
       "      <td>1989</td>\n",
       "      <td>ZWE</td>\n",
       "      <td>﻿I should like at the outset to express my del...</td>\n",
       "      <td>Africa</td>\n",
       "      <td>Zimbabwe</td>\n",
       "    </tr>\n",
       "  </tbody>\n",
       "</table>\n",
       "</div>"
      ],
      "text/plain": [
       "   year country                                               text  \\\n",
       "0  1989     MDV  ﻿It is indeed a pleasure for me and the member...   \n",
       "1  1989     FIN  ﻿\\nMay I begin by congratulating you. Sir, on ...   \n",
       "2  1989     NER  ﻿\\nMr. President, it is a particular pleasure ...   \n",
       "3  1989     URY  ﻿\\nDuring the debate at the fortieth session o...   \n",
       "4  1989     ZWE  ﻿I should like at the outset to express my del...   \n",
       "\n",
       "  Region Name Country or Area  \n",
       "0        Asia        Maldives  \n",
       "1      Europe         Finland  \n",
       "2      Africa           Niger  \n",
       "3    Americas         Uruguay  \n",
       "4      Africa        Zimbabwe  "
      ]
     },
     "execution_count": 2,
     "metadata": {},
     "output_type": "execute_result"
    }
   ],
   "source": [
    "#source of iso code database: https://unstats.un.org/unsd/methodology/m49/overview/\n",
    "##The dataset represents country names as 3-letter ISO-alpha3 Codes.\n",
    "# To convert these codes into country names, I merged df with UN country names\n",
    "# This dataset also specifies the region (continent), which I will need later.\n",
    "\n",
    "df = pd.read_csv('un-general-debates.csv').drop('session', axis=1)\n",
    "country_names = pd.read_excel('UNSD — Methodology.xlsx')\n",
    "df = pd.merge(df, country_names[['Region Name','Country or Area','ISO-alpha3 Code']],\n",
    "             how='left', left_on='country', right_on='ISO-alpha3 Code')\n",
    "df.drop('ISO-alpha3 Code',axis=1, inplace=True) #removing a duplicate column\n",
    "df.head()"
   ]
  },
  {
   "cell_type": "code",
   "execution_count": 3,
   "metadata": {},
   "outputs": [
    {
     "data": {
      "text/plain": [
       "year                15\n",
       "country             42\n",
       "text               630\n",
       "Region Name          1\n",
       "Country or Area     42\n",
       "dtype: int64"
      ]
     },
     "execution_count": 3,
     "metadata": {},
     "output_type": "execute_result"
    }
   ],
   "source": [
    "\n",
    "# For convenience (processing speed), I will reduce the size of the dataset by:\n",
    "# 1) Looking at debates that happened this century (years 2001-2015)\n",
    "df = df.loc[df.year > 2000]\n",
    "# 2) Limiting the countries of interest to Asian countries:\n",
    "df = df.loc[df['Region Name'] == 'Africa']\n",
    "# 3) Removing countries absent from any debates this century:\n",
    "always_present = [index for (index,value) in \n",
    "                      df.country.value_counts().items() \n",
    "                  if value==15] # for 15 debates in the 21st century\n",
    "df = df.loc[df['country'].isin(always_present)]\n",
    "\n",
    "# The reduced dataframe (number of unique values per column):\n",
    "df.nunique()"
   ]
  },
  {
   "cell_type": "code",
   "execution_count": 4,
   "metadata": {},
   "outputs": [
    {
     "data": {
      "text/html": [
       "<div>\n",
       "<style scoped>\n",
       "    .dataframe tbody tr th:only-of-type {\n",
       "        vertical-align: middle;\n",
       "    }\n",
       "\n",
       "    .dataframe tbody tr th {\n",
       "        vertical-align: top;\n",
       "    }\n",
       "\n",
       "    .dataframe thead th {\n",
       "        text-align: right;\n",
       "    }\n",
       "</style>\n",
       "<table border=\"1\" class=\"dataframe\">\n",
       "  <thead>\n",
       "    <tr style=\"text-align: right;\">\n",
       "      <th></th>\n",
       "      <th>text</th>\n",
       "      <th>lemmatized_tokens</th>\n",
       "      <th>lemmatized_text</th>\n",
       "    </tr>\n",
       "  </thead>\n",
       "  <tbody>\n",
       "    <tr>\n",
       "      <th>228</th>\n",
       "      <td>Allow me to congratulate \\nPresident Ashe on h...</td>\n",
       "      <td>[allow, congratulate, president, election, pre...</td>\n",
       "      <td>allow congratulate president election preside ...</td>\n",
       "    </tr>\n",
       "    <tr>\n",
       "      <th>232</th>\n",
       "      <td>At the outset, \\nI would like, on behalf of th...</td>\n",
       "      <td>[outset, would, behalf, state, government, peo...</td>\n",
       "      <td>outset would behalf state government people co...</td>\n",
       "    </tr>\n",
       "    <tr>\n",
       "      <th>234</th>\n",
       "      <td>It is with a heavy heart that \\nI address the ...</td>\n",
       "      <td>[heavy, heart, address, assembly, today, ghana...</td>\n",
       "      <td>heavy heart address assembly today ghana atten...</td>\n",
       "    </tr>\n",
       "    <tr>\n",
       "      <th>244</th>\n",
       "      <td>It is an honour and a privilege \\nfor me to on...</td>\n",
       "      <td>[honour, privilege, address, south, africa, at...</td>\n",
       "      <td>honour privilege address south africa attache ...</td>\n",
       "    </tr>\n",
       "    <tr>\n",
       "      <th>249</th>\n",
       "      <td>At the outset, I wish to congratulate \\nHis Ex...</td>\n",
       "      <td>[outset, congratulate, excellency, election, p...</td>\n",
       "      <td>outset congratulate excellency election presid...</td>\n",
       "    </tr>\n",
       "  </tbody>\n",
       "</table>\n",
       "</div>"
      ],
      "text/plain": [
       "                                                  text  \\\n",
       "228  Allow me to congratulate \\nPresident Ashe on h...   \n",
       "232  At the outset, \\nI would like, on behalf of th...   \n",
       "234  It is with a heavy heart that \\nI address the ...   \n",
       "244  It is an honour and a privilege \\nfor me to on...   \n",
       "249  At the outset, I wish to congratulate \\nHis Ex...   \n",
       "\n",
       "                                     lemmatized_tokens  \\\n",
       "228  [allow, congratulate, president, election, pre...   \n",
       "232  [outset, would, behalf, state, government, peo...   \n",
       "234  [heavy, heart, address, assembly, today, ghana...   \n",
       "244  [honour, privilege, address, south, africa, at...   \n",
       "249  [outset, congratulate, excellency, election, p...   \n",
       "\n",
       "                                       lemmatized_text  \n",
       "228  allow congratulate president election preside ...  \n",
       "232  outset would behalf state government people co...  \n",
       "234  heavy heart address assembly today ghana atten...  \n",
       "244  honour privilege address south africa attache ...  \n",
       "249  outset congratulate excellency election presid...  "
      ]
     },
     "execution_count": 4,
     "metadata": {},
     "output_type": "execute_result"
    }
   ],
   "source": [
    "# Preparing texts for analysis:\n",
    "def preprocessText(text):\n",
    "    text = re.sub('[^a-z]+',' ', text.lower()) # remove all non-letter characters\n",
    "    tokens = word_tokenize(text) # returns a list of individual words\n",
    "    # Removing unhelpfull, ubiquitous words ('stop words', e.g. ‘the’, ‘is’, ‘are’):\n",
    "    tokens = [token for token in tokens if len(token) > 4 and\n",
    "             token not in nltk.corpus.stopwords.words('english')]\n",
    "    # Lemmatizing removes inflectional endings and gets the root word (lemma):\n",
    "    lemmatizer = nltk.stem.WordNetLemmatizer()\n",
    "    lemmas = [lemmatizer.lemmatize(token) for token in tokens]\n",
    "    return lemmas\n",
    "\n",
    "df['lemmatized_tokens'] = df['text'].apply(preprocessText)\n",
    "df['lemmatized_tokens'].head()\n",
    "df['lemmatized_text'] = [' '.join(x) for x in df['lemmatized_tokens']]\n",
    "df['freq_dist'] = df['lemmatized_tokens'].apply(FreqDist)\n",
    "df[['text','lemmatized_tokens','lemmatized_text']].head()\n"
   ]
  },
  {
   "cell_type": "code",
   "execution_count": 5,
   "metadata": {},
   "outputs": [],
   "source": [
    "#african_map =('detailed-map-of-africa-continent-in-black-vector-15726243.png.',delimiter=',', dtype='uint8')\n",
    "\n",
    "\n",
    "#text = df.lemmatized_text.sum()\n",
    "\n",
    "# Plotting:\n",
    "#fig = plt.figure(figsize = (10,10))\n",
    "\n",
    "#wordcloud = WordCloud(background_color='white',\n",
    "                      #mask=african_map,\n",
    "                      #max_words=2000).generate(text);\n",
    "#plt.imshow(wordcloud, interpolation='bilinear') # plotting the image\n",
    "#plt.axis(\"off\")\n",
    "\n",
    "#plt.tight_layout()"
   ]
  },
  {
   "cell_type": "code",
   "execution_count": 6,
   "metadata": {},
   "outputs": [],
   "source": [
    "# For each word count in how many documents does it appear:\n",
    "\n",
    "texts = df.lemmatized_tokens.tolist() # I will be working on lemmatized words\n",
    "all_words = list(set(df.lemmatized_tokens.sum())) # All unique words\n",
    "\n",
    "texts = [list(set(t)) for t in texts] # Unique words in each text\n",
    "word_in_texts = {} # keys=unique words, values=the number of texts in which they appear\n",
    "for word in all_words:\n",
    "    word_in_texts[word] = 0 \n",
    "    for text in texts:\n",
    "        if word in text:\n",
    "            word_in_texts[word] += 1\n"
   ]
  },
  {
   "cell_type": "code",
   "execution_count": 7,
   "metadata": {},
   "outputs": [
    {
     "data": {
      "image/png": "[encoded data removed]",
      "text/plain": [
       "<Figure size 432x288 with 2 Axes>"
      ]
     },
     "metadata": {},
     "output_type": "display_data"
    }
   ],
   "source": [
    "\n",
    "no_of_speeches = len(texts)\n",
    "\n",
    "fig, ax = plt.subplots(nrows=2, ncols=1) # figure with two subplots\n",
    "\n",
    "# converting the dicrionary to a list of tupples and sorting them from most common,\n",
    "# to rarest words\n",
    "wit = sorted(list(word_in_texts.items()), key=lambda x: x[1], reverse=True)\n",
    "# for plotting: numbering words from most to liest common:\n",
    "x_wit = [x for x in range(len(wit))]\n",
    "y_wit = [y for (x,y) in wit]\n",
    "ax[0].plot(x_wit, y_wit, color='slateblue')\n",
    "ax[0].fill_between(x_wit, y_wit, color=\"slateblue\", alpha=0.3)\n",
    "ax[0].set_title('All words')\n",
    "ax[0].set_ylabel('Speeches')\n",
    "\n",
    "# very few words appear in most documents\n",
    "# on the other hand out of >14,000 unique words\n",
    "# about 10,000 occur in no more than 10 documents\n",
    "\n",
    "wit_10 = [x for x in wit if x[1]>10] # remove words appearing in 10 or less documents\n",
    "x_wit_10 = [x for x in range(len(wit_10))]\n",
    "y_wit_10 = [y for (x,y) in wit_10]\n",
    "ax[1].plot(x_wit_10, y_wit_10, color='slateblue')\n",
    "ax[1].fill_between(x_wit_10, y_wit_10, color=\"slateblue\", alpha=0.3)\n",
    "ax[1].set_title('Words that appear in over 10 speeches')\n",
    "ax[1].set_ylabel('Speeches')\n",
    "plt.tight_layout()"
   ]
  },
  {
   "cell_type": "code",
   "execution_count": 8,
   "metadata": {},
   "outputs": [
    {
     "name": "stdout",
     "output_type": "stream",
     "text": [
      "('nation', 627)          ('stronger', 54)         ('recourse', 21)         \n",
      "('election', 540)        ('associated', 53)       ('prevented', 20)        \n",
      "('social', 473)          ('celebrate', 52)        ('blueprint', 20)        \n",
      "('problem', 421)         ('owing', 51)            ('incident', 20)         \n",
      "('express', 374)         ('accountable', 50)      ('thabo', 19)            \n",
      "('measure', 346)         ('founded', 49)          ('driving', 19)          \n",
      "('remain', 324)          ('confronted', 48)       ('tenet', 19)            \n",
      "('charter', 300)         ('deadline', 47)         ('pretoria', 18)         \n",
      "('weapon', 277)          ('ambassador', 46)       ('mourning', 18)         \n",
      "('urgent', 259)          ('seeing', 45)           ('jamahiriya', 18)       \n",
      "('terrorist', 246)       ('collaboration', 44)    ('unquestionably', 18)   \n",
      "('access', 232)          ('fraternal', 43)        ('lesotho', 18)          \n",
      "('present', 222)         ('immense', 43)          ('falling', 17)          \n",
      "('light', 211)           ('desired', 42)          ('recruitment', 17)      \n",
      "('family', 201)          ('ecosystem', 41)        ('violated', 17)         \n",
      "('third', 190)           ('complexity', 40)       ('regulate', 17)         \n",
      "('infrastructure', 179)  ('wood', 40)             ('brave', 16)            \n",
      "('increasing', 171)      ('algeria', 39)          ('margin', 16)           \n",
      "('shared', 165)          ('expanded', 38)         ('sentiment', 16)        \n",
      "('north', 154)           ('emphasized', 38)       ('detriment', 16)        \n",
      "('holding', 148)         ('likely', 37)           ('wonder', 16)           \n",
      "('understanding', 141)   ('solemnly', 36)         ('denis', 16)            \n",
      "('extreme', 136)         ('goodwill', 36)         ('affirms', 15)          \n",
      "('leading', 132)         ('latter', 35)           ('disagreement', 15)     \n",
      "('longer', 128)          ('wider', 35)            ('confirms', 15)         \n",
      "('failure', 125)         ('definition', 34)       ('burning', 15)          \n",
      "('sense', 120)           ('guiding', 33)          ('champion', 15)         \n",
      "('eradication', 117)     ('daunting', 33)         ('continuity', 15)       \n",
      "('exercise', 113)        ('pending', 32)          ('knowing', 14)          \n",
      "('wealth', 110)          ('racial', 31)           ('boost', 14)            \n",
      "('equally', 106)         ('srgjan', 31)           ('hampered', 14)         \n",
      "('resolved', 103)        ('catastrophe', 30)      ('deploying', 14)        \n",
      "('pledge', 99)           ('road', 30)             ('oppose', 14)           \n",
      "('auspex', 96)           ('coherent', 29)         ('attribute', 13)        \n",
      "('subregional', 93)      ('quarter', 28)          ('extends', 13)          \n",
      "('spite', 90)            ('apartheid', 28)        ('allocating', 13)       \n",
      "('pleasure', 87)         ('universally', 27)      ('constructively', 13)   \n",
      "('binding', 84)          ('budgetary', 27)        ('evolve', 13)           \n",
      "('stable', 82)           ('adversely', 27)        ('flagrant', 13)         \n",
      "('moral', 80)            ('arise', 26)            ('entrench', 12)         \n",
      "('concerning', 78)       ('tomorrow', 26)         ('denounce', 12)         \n",
      "('capable', 75)          ('redress', 25)          ('inclusiveness', 12)    \n",
      "('launch', 74)           ('attitude', 25)         ('dissemination', 12)    \n",
      "('valuable', 72)         ('portuguese', 25)       ('fauna', 12)            \n",
      "('protecting', 70)       ('drawing', 24)          ('post', 12)             \n",
      "('knowledge', 67)        ('reinforcing', 24)      ('modernity', 11)        \n",
      "('warmest', 65)          ('oriented', 24)         ('momentous', 11)        \n",
      "('table', 64)            ('atomic', 23)           ('eruption', 11)         \n",
      "('courage', 62)          ('camp', 23)             ('telecommunication', 11)\n",
      "('relating', 61)         ('aegis', 22)            ('noteworthy', 11)       \n",
      "('ethnic', 59)           ('inability', 22)        ('organizational', 11)   \n",
      "('negotiating', 58)      ('biggest', 22)          ('guard', 11)            \n",
      "('commendable', 57)      ('competitiveness', 21)  ('epicentre', 11)        \n",
      "('managing', 55)         ('interested', 21)     \n",
      "\n"
     ]
    }
   ],
   "source": [
    "print(columnize([str(x) for x in wit_10[0::25]])) # for a prettier display,\n",
    "# I put the list into multiple columns"
   ]
  },
  {
   "cell_type": "code",
   "execution_count": null,
   "metadata": {},
   "outputs": [],
   "source": []
  },
  {
   "cell_type": "code",
   "execution_count": null,
   "metadata": {},
   "outputs": [],
   "source": [
    "\n",
    "\n"
   ]
  },
  {
   "cell_type": "code",
   "execution_count": null,
   "metadata": {},
   "outputs": [],
   "source": []
  },
  {
   "cell_type": "code",
   "execution_count": null,
   "metadata": {},
   "outputs": [],
   "source": []
  },
  {
   "cell_type": "code",
   "execution_count": null,
   "metadata": {},
   "outputs": [],
   "source": [
    "\n",
    "\n",
    "\n",
    "\n",
    "\n",
    "\n"
   ]
  },
  {
   "cell_type": "code",
   "execution_count": null,
   "metadata": {},
   "outputs": [],
   "source": []
  },
  {
   "cell_type": "code",
   "execution_count": null,
   "metadata": {},
   "outputs": [],
   "source": []
  },
  {
   "cell_type": "code",
   "execution_count": null,
   "metadata": {},
   "outputs": [],
   "source": []
  },
  {
   "cell_type": "code",
   "execution_count": null,
   "metadata": {},
   "outputs": [],
   "source": []
  },
  {
   "cell_type": "code",
   "execution_count": null,
   "metadata": {},
   "outputs": [],
   "source": []
  }
 ],
 "metadata": {
  "kernelspec": {
   "display_name": "Python 3",
   "language": "python",
   "name": "python3"
  },
  "language_info": {
   "codemirror_mode": {
    "name": "ipython",
    "version": 3
   },
   "file_extension": ".py",
   "mimetype": "text/x-python",
   "name": "python",
   "nbconvert_exporter": "python",
   "pygments_lexer": "ipython3",
   "version": "3.6.5"
  }
 },
 "nbformat": 4,
 "nbformat_minor": 2
}
